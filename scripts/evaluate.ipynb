{
 "cells": [
  {
   "cell_type": "code",
   "execution_count": 1,
   "id": "d001e5b1",
   "metadata": {},
   "outputs": [],
   "source": [
    "CHR18_SIZE = 90720763\n",
    "CHR18_SUBSET_SIZE = 25556940\n",
    "CHR18_SUBSET_SIZE_ADJ = 25556940 - 10000018\n"
   ]
  },
  {
   "cell_type": "code",
   "execution_count": 2,
   "id": "526eba43-1fc0-4075-9f83-049a3a16118f",
   "metadata": {},
   "outputs": [
    {
     "name": "stdout",
     "output_type": "stream",
     "text": [
      "+-------------+---------------+--------------+-----------+-----------+-----------+---------------+-----------+-----------+-----------+\n",
      "| TT_S0       | starting_nt   | Chromosome   | Start     | End       | genes     | transcripts   | exons     | CDSs      | labels    |\n",
      "| (float64)   | (int64)       | (category)   | (int64)   | (int64)   | (int64)   | (int64)       | (int64)   | (int64)   | (int64)   |\n",
      "|-------------+---------------+--------------+-----------+-----------+-----------+---------------+-----------+-----------+-----------|\n",
      "| 0.0         | 10000017      | 18           | 10000017  | 10000017  | 0         | 0             | 0         | 0         | 1         |\n",
      "| 0.0         | 10000017      | 18           | 10000017  | 10000117  | 0         | 0             | 0         | 0         | 1         |\n",
      "| 0.0         | 10000117      | 18           | 10000117  | 10000217  | 0         | 0             | 0         | 0         | 1         |\n",
      "| 0.0         | 10000217      | 18           | 10000217  | 10000317  | 0         | 0             | 0         | 0         | 1         |\n",
      "| ...         | ...           | ...          | ...       | ...       | ...       | ...           | ...       | ...       | ...       |\n",
      "| 5.0         | 25556617      | 18           | 25556617  | 25556717  | 0         | 0             | 0         | 0         | 1         |\n",
      "| 12.0        | 25556717      | 18           | 25556717  | 25556817  | 0         | 0             | 0         | 0         | 0         |\n",
      "| 8.0         | 25556817      | 18           | 25556817  | 25556917  | 0         | 0             | 0         | 0         | 1         |\n",
      "| 7.0         | 25556917      | 18           | 25556917  | 25556940  | 0         | 0             | 0         | 0         | 1         |\n",
      "+-------------+---------------+--------------+-----------+-----------+-----------+---------------+-----------+-----------+-----------+\n",
      "Unstranded PyRanges object has 155,571 rows and 10 columns from 1 chromosomes.\n",
      "For printing, the PyRanges was sorted on Chromosome.\n"
     ]
    },
    {
     "name": "stderr",
     "output_type": "stream",
     "text": [
      "/Library/Frameworks/Python.framework/Versions/3.11/lib/python3.11/site-packages/pyranges/methods/init.py:45: FutureWarning: The default of observed=False is deprecated and will be changed to True in a future version of pandas. Pass observed=False to retain current behavior or observed=True to adopt the future default and silence this warning.\n",
      "  return {k: v for k, v in df.groupby(grpby_key)}\n"
     ]
    }
   ],
   "source": [
    "import pandas as pd, pyranges as pr\n",
    "import os\n",
    "\n",
    "\n",
    "df = pd.read_csv(\"output_prototypes.csv\", sep = '\\t', index_col=0)\n",
    "input = pr.PyRanges(df)\n",
    "\n",
    "os.environ['COLUMNS']=\"300\"\n",
    "\n",
    "print(input)"
   ]
  },
  {
   "cell_type": "code",
   "execution_count": 3,
   "id": "8848776a",
   "metadata": {},
   "outputs": [
    {
     "name": "stdout",
     "output_type": "stream",
     "text": [
      "    TT_S0  starting_nt Chromosome     Start       End  genes  transcripts  \\\n",
      "0     0.0     10000017         18  10000017  10000017      0            0   \n",
      "1     0.0     10000017         18  10000017  10000117      0            0   \n",
      "2     0.0     10000117         18  10000117  10000217      0            0   \n",
      "3     0.0     10000217         18  10000217  10000317      0            0   \n",
      "4    14.0     10000317         18  10000317  10000417      0            0   \n",
      "5     3.0     10000417         18  10000417  10000517      0            0   \n",
      "6     3.0     10000517         18  10000517  10000617      0            0   \n",
      "7     0.0     10000617         18  10000617  10000717      0            0   \n",
      "8    16.0     10000717         18  10000717  10000817      0            0   \n",
      "9     2.0     10000817         18  10000817  10000917      0            0   \n",
      "10    0.0     10000917         18  10000917  10001017      0            0   \n",
      "11    0.0     10001017         18  10001017  10001117      0            0   \n",
      "12    1.0     10001117         18  10001117  10001217      0            0   \n",
      "13    1.0     10001217         18  10001217  10001317      0            0   \n",
      "14    0.0     10001317         18  10001317  10001417      0            0   \n",
      "15    4.0     10001417         18  10001417  10001517      0            0   \n",
      "16    3.0     10001517         18  10001517  10001617      0            0   \n",
      "17    0.0     10001617         18  10001617  10001717      0            0   \n",
      "18    0.0     10001717         18  10001717  10001817      0            0   \n",
      "19    1.0     10001817         18  10001817  10001917      0            0   \n",
      "20    0.0     10001917         18  10001917  10002017      0            0   \n",
      "21    6.0     10002017         18  10002017  10002117      0            0   \n",
      "22   21.0     10002117         18  10002117  10002217      0            0   \n",
      "23   14.0     10002217         18  10002217  10002317      0            0   \n",
      "24    1.0     10002317         18  10002317  10002417      0            0   \n",
      "25    0.0     10002417         18  10002417  10002517      0            0   \n",
      "26    0.0     10002517         18  10002517  10002617      0            0   \n",
      "27    2.0     10002617         18  10002617  10002717      0            0   \n",
      "28   12.0     10002717         18  10002717  10002817      0            0   \n",
      "29    9.0     10002817         18  10002817  10002917      0            0   \n",
      "30    0.0     10002917         18  10002917  10003017      0            0   \n",
      "31    1.0     10003017         18  10003017  10003117      0            0   \n",
      "32    0.0     10003117         18  10003117  10003217      0            0   \n",
      "33    7.0     10003217         18  10003217  10003317      0            0   \n",
      "34    0.0     10003317         18  10003317  10003417      0            0   \n",
      "35    4.0     10003417         18  10003417  10003517      0            0   \n",
      "36    1.0     10003517         18  10003517  10003617      0            0   \n",
      "37    0.0     10003617         18  10003617  10003717      0            0   \n",
      "38    0.0     10003717         18  10003717  10003817      0            0   \n",
      "39    1.0     10003817         18  10003817  10003917      0            0   \n",
      "40    4.0     10003917         18  10003917  10004017      0            0   \n",
      "41    1.0     10004017         18  10004017  10004117      0            0   \n",
      "42    4.0     10004117         18  10004117  10004217      0            0   \n",
      "43    1.0     10004217         18  10004217  10004317      0            0   \n",
      "44    2.0     10004317         18  10004317  10004417      0            0   \n",
      "45    7.0     10004417         18  10004417  10004517      0            0   \n",
      "46   29.0     10004517         18  10004517  10004617      0            0   \n",
      "47    1.0     10004617         18  10004617  10004717      0            0   \n",
      "48   12.0     10004717         18  10004717  10004817      0            0   \n",
      "49    8.0     10004817         18  10004817  10004917      0            0   \n",
      "50    0.0     10004917         18  10004917  10005017      0            0   \n",
      "51    0.0     10005017         18  10005017  10005117      0            0   \n",
      "52    1.0     10005117         18  10005117  10005217      0            0   \n",
      "53    0.0     10005217         18  10005217  10005317      0            0   \n",
      "54    0.0     10005317         18  10005317  10005417      0            0   \n",
      "55    0.0     10005417         18  10005417  10005517      0            0   \n",
      "56    3.0     10005517         18  10005517  10005617      0            0   \n",
      "57    0.0     10005617         18  10005617  10005717      0            0   \n",
      "58    0.0     10005717         18  10005717  10005817      0            0   \n",
      "59    3.0     10005817         18  10005817  10005917      0            0   \n",
      "60    0.0     10005917         18  10005917  10006017      0            0   \n",
      "61    0.0     10006017         18  10006017  10006117      0            0   \n",
      "62    0.0     10006117         18  10006117  10006217      0            0   \n",
      "63    6.0     10006217         18  10006217  10006317      0            0   \n",
      "64    1.0     10006317         18  10006317  10006417      0            0   \n",
      "65    0.0     10006417         18  10006417  10006517      0            0   \n",
      "66    0.0     10006517         18  10006517  10006617      0            0   \n",
      "67    8.0     10006617         18  10006617  10006717      0            0   \n",
      "68   14.0     10006717         18  10006717  10006817      0            0   \n",
      "69    1.0     10006817         18  10006817  10006917      0            0   \n",
      "70    0.0     10006917         18  10006917  10007017      0            0   \n",
      "71    0.0     10007017         18  10007017  10007117      0            0   \n",
      "72    0.0     10007117         18  10007117  10007217      0            0   \n",
      "73    3.0     10007217         18  10007217  10007317      0            0   \n",
      "74    6.0     10007317         18  10007317  10007417      0            0   \n",
      "75    0.0     10007417         18  10007417  10007517      0            0   \n",
      "76   10.0     10007517         18  10007517  10007617      0            0   \n",
      "77    0.0     10007617         18  10007617  10007717      0            0   \n",
      "78    0.0     10007717         18  10007717  10007817      0            0   \n",
      "79    0.0     10007817         18  10007817  10007917      0            0   \n",
      "80    7.0     10007917         18  10007917  10008017      0            0   \n",
      "81    7.0     10008017         18  10008017  10008117      0            0   \n",
      "82   18.0     10008117         18  10008117  10008217      0            0   \n",
      "83    2.0     10008217         18  10008217  10008317      0            0   \n",
      "84    5.0     10008317         18  10008317  10008417      0            0   \n",
      "85    0.0     10008417         18  10008417  10008517      0            0   \n",
      "86    9.0     10008517         18  10008517  10008617      0            0   \n",
      "87    0.0     10008617         18  10008617  10008717      0            0   \n",
      "88    7.0     10008717         18  10008717  10008817      0            0   \n",
      "89    1.0     10008817         18  10008817  10008917      0            0   \n",
      "90    6.0     10008917         18  10008917  10009017      0            0   \n",
      "91    4.0     10009017         18  10009017  10009117      0            0   \n",
      "92    5.0     10009117         18  10009117  10009217      0            0   \n",
      "93    0.0     10009217         18  10009217  10009317      0            0   \n",
      "94    0.0     10009317         18  10009317  10009417      0            0   \n",
      "95   15.0     10009417         18  10009417  10009517      0            0   \n",
      "96    0.0     10009517         18  10009517  10009617      0            0   \n",
      "97    4.0     10009617         18  10009617  10009717      0            0   \n",
      "98   11.0     10009717         18  10009717  10009817      0            0   \n",
      "99    0.0     10009817         18  10009817  10009917      0            0   \n",
      "\n",
      "    exons  CDSs  labels  \n",
      "0       0     0       1  \n",
      "1       0     0       1  \n",
      "2       0     0       1  \n",
      "3       0     0       1  \n",
      "4       0     0       0  \n",
      "5       0     0       1  \n",
      "6       0     0       1  \n",
      "7       0     0       1  \n",
      "8       0     0       0  \n",
      "9       0     0       1  \n",
      "10      0     0       1  \n",
      "11      0     0       1  \n",
      "12      0     0       1  \n",
      "13      0     0       1  \n",
      "14      0     0       1  \n",
      "15      0     0       1  \n",
      "16      0     0       1  \n",
      "17      0     0       1  \n",
      "18      0     0       1  \n",
      "19      0     0       1  \n",
      "20      0     0       1  \n",
      "21      0     0       1  \n",
      "22      0     0       0  \n",
      "23      0     0       0  \n",
      "24      0     0       1  \n",
      "25      0     0       1  \n",
      "26      0     0       1  \n",
      "27      0     0       1  \n",
      "28      0     0       0  \n",
      "29      0     0       0  \n",
      "30      0     0       1  \n",
      "31      0     0       1  \n",
      "32      0     0       1  \n",
      "33      0     0       1  \n",
      "34      0     0       1  \n",
      "35      0     0       1  \n",
      "36      0     0       1  \n",
      "37      0     0       1  \n",
      "38      0     0       1  \n",
      "39      0     0       1  \n",
      "40      0     0       1  \n",
      "41      0     0       1  \n",
      "42      0     0       1  \n",
      "43      0     0       1  \n",
      "44      0     0       1  \n",
      "45      0     0       1  \n",
      "46      0     0       0  \n",
      "47      0     0       1  \n",
      "48      0     0       0  \n",
      "49      0     0       1  \n",
      "50      0     0       1  \n",
      "51      0     0       1  \n",
      "52      0     0       1  \n",
      "53      0     0       1  \n",
      "54      0     0       1  \n",
      "55      0     0       1  \n",
      "56      0     0       1  \n",
      "57      0     0       1  \n",
      "58      0     0       1  \n",
      "59      0     0       1  \n",
      "60      0     0       1  \n",
      "61      0     0       1  \n",
      "62      0     0       1  \n",
      "63      0     0       1  \n",
      "64      0     0       1  \n",
      "65      0     0       1  \n",
      "66      0     0       1  \n",
      "67      0     0       1  \n",
      "68      0     0       0  \n",
      "69      0     0       1  \n",
      "70      0     0       1  \n",
      "71      0     0       1  \n",
      "72      0     0       1  \n",
      "73      0     0       1  \n",
      "74      0     0       1  \n",
      "75      0     0       1  \n",
      "76      0     0       0  \n",
      "77      0     0       1  \n",
      "78      0     0       1  \n",
      "79      0     0       1  \n",
      "80      0     0       1  \n",
      "81      0     0       1  \n",
      "82      0     0       0  \n",
      "83      0     0       1  \n",
      "84      0     0       1  \n",
      "85      0     0       1  \n",
      "86      0     0       0  \n",
      "87      0     0       1  \n",
      "88      0     0       1  \n",
      "89      0     0       1  \n",
      "90      0     0       1  \n",
      "91      0     0       1  \n",
      "92      0     0       1  \n",
      "93      0     0       1  \n",
      "94      0     0       1  \n",
      "95      0     0       0  \n",
      "96      0     0       1  \n",
      "97      0     0       1  \n",
      "98      0     0       0  \n",
      "99      0     0       1  \n"
     ]
    }
   ],
   "source": [
    "pd.set_option(\"display.max_rows\", None)\n",
    "\n",
    "print(input.df[:100])\n",
    "\n",
    "pd.reset_option(\"display.max_rows\")"
   ]
  },
  {
   "cell_type": "code",
   "execution_count": 4,
   "id": "098e55da",
   "metadata": {},
   "outputs": [
    {
     "name": "stdout",
     "output_type": "stream",
     "text": [
      "Nuliai: 17061\n",
      "Vienetai: 138510\n",
      "Target: 0\n",
      "+--------------+-----------+-----------+\n",
      "| Chromosome   | Start     | End       |\n",
      "| (category)   | (int64)   | (int64)   |\n",
      "|--------------+-----------+-----------|\n",
      "| 18           | 10000317  | 10000417  |\n",
      "| 18           | 10000717  | 10000817  |\n",
      "| 18           | 10002117  | 10002317  |\n",
      "| 18           | 10002717  | 10002917  |\n",
      "| ...          | ...       | ...       |\n",
      "| 18           | 25555417  | 25555617  |\n",
      "| 18           | 25555917  | 25556117  |\n",
      "| 18           | 25556217  | 25556617  |\n",
      "| 18           | 25556717  | 25556817  |\n",
      "+--------------+-----------+-----------+\n",
      "Unstranded PyRanges object has 11,670 rows and 3 columns from 1 chromosomes.\n",
      "For printing, the PyRanges was sorted on Chromosome.\n"
     ]
    }
   ],
   "source": [
    "count0 = len(input[input.labels == 0])\n",
    "count1 = len(input[input.labels == 1])\n",
    "\n",
    "print(\"Nuliai:\", count0)\n",
    "print(\"Vienetai:\", count1)\n",
    "\n",
    "if count0 > count1:\n",
    "    target_label = 1\n",
    "else:\n",
    "    target_label = 0\n",
    "\n",
    "print(\"Target:\", target_label)\n",
    "\n",
    "open_ranges = input[input.labels == target_label]\n",
    "merged_ranges = open_ranges.merge()\n",
    "\n",
    "print(merged_ranges)"
   ]
  },
  {
   "cell_type": "code",
   "execution_count": 5,
   "id": "ada48b3b",
   "metadata": {},
   "outputs": [
    {
     "name": "stdout",
     "output_type": "stream",
     "text": [
      "+--------------+-----------+-----------+-----------+--------------+------------+\n",
      "| Chromosome   | Start     | End       | width     | strand       | study      |\n",
      "| (category)   | (int64)   | (int64)   | (int32)   | (category)   | (object)   |\n",
      "|--------------+-----------+-----------+-----------+--------------+------------|\n",
      "| 1            | 3062536   | 3063132   | 597       | *            | ATACseq    |\n",
      "| 1            | 3482735   | 3483063   | 329       | *            | ATACseq    |\n",
      "| 1            | 3549538   | 3549654   | 117       | *            | ATACseq    |\n",
      "| 1            | 3649136   | 3649335   | 200       | *            | ATACseq    |\n",
      "| ...          | ...       | ...       | ...       | ...          | ...        |\n",
      "| 19           | 61265420  | 61265595  | 176       | *            | ATACseq    |\n",
      "| 19           | 61266516  | 61266619  | 104       | *            | ATACseq    |\n",
      "| 19           | 61313296  | 61313814  | 519       | *            | ATACseq    |\n",
      "| 19           | 61320979  | 61321177  | 199       | *            | ATACseq    |\n",
      "+--------------+-----------+-----------+-----------+--------------+------------+\n",
      "Unstranded PyRanges object has 49,310 rows and 6 columns from 19 chromosomes.\n",
      "For printing, the PyRanges was sorted on Chromosome.\n"
     ]
    },
    {
     "name": "stderr",
     "output_type": "stream",
     "text": [
      "/Library/Frameworks/Python.framework/Versions/3.11/lib/python3.11/site-packages/pyranges/methods/init.py:45: FutureWarning: The default of observed=False is deprecated and will be changed to True in a future version of pandas. Pass observed=False to retain current behavior or observed=True to adopt the future default and silence this warning.\n",
      "  return {k: v for k, v in df.groupby(grpby_key)}\n"
     ]
    }
   ],
   "source": [
    "import pyreadr\n",
    "\n",
    "df2 = pyreadr.read_r('ATAC_dt.RDS')[None]\n",
    "df2.rename(columns={\"start\": \"Start\", \"end\": \"End\", \"seqnames\": \"Chromosome\"}, inplace=True)\n",
    "\n",
    "atac = pr.PyRanges(df2)\n",
    "print(atac)"
   ]
  },
  {
   "cell_type": "code",
   "execution_count": 6,
   "id": "d6bc6c3a",
   "metadata": {},
   "outputs": [
    {
     "name": "stdout",
     "output_type": "stream",
     "text": [
      "+--------------+-----------+-----------+-----------+--------------+------------+\n",
      "| Chromosome   | Start     | End       | width     | strand       | study      |\n",
      "| (category)   | (int64)   | (int64)   | (int32)   | (category)   | (object)   |\n",
      "|--------------+-----------+-----------+-----------+--------------+------------|\n",
      "| 1            | 3062584   | 3062721   | 138       | *            | DNAseq     |\n",
      "| 1            | 3062853   | 3063133   | 281       | *            | DNAseq     |\n",
      "| 1            | 3343577   | 3343809   | 233       | *            | DNAseq     |\n",
      "| 1            | 3445798   | 3445915   | 118       | *            | DNAseq     |\n",
      "| ...          | ...       | ...       | ...       | ...          | ...        |\n",
      "| 19           | 61308317  | 61308448  | 132       | *            | DNAseq     |\n",
      "| 19           | 61308597  | 61308968  | 372       | *            | DNAseq     |\n",
      "| 19           | 61313450  | 61313561  | 112       | *            | DNAseq     |\n",
      "| 19           | 61320953  | 61321278  | 326       | *            | DNAseq     |\n",
      "+--------------+-----------+-----------+-----------+--------------+------------+\n",
      "Unstranded PyRanges object has 97,521 rows and 6 columns from 19 chromosomes.\n",
      "For printing, the PyRanges was sorted on Chromosome.\n"
     ]
    },
    {
     "name": "stderr",
     "output_type": "stream",
     "text": [
      "/Library/Frameworks/Python.framework/Versions/3.11/lib/python3.11/site-packages/pyranges/methods/init.py:45: FutureWarning: The default of observed=False is deprecated and will be changed to True in a future version of pandas. Pass observed=False to retain current behavior or observed=True to adopt the future default and silence this warning.\n",
      "  return {k: v for k, v in df.groupby(grpby_key)}\n"
     ]
    }
   ],
   "source": [
    "df3 = pyreadr.read_r('DNAseq_dt.RDS')[None]\n",
    "df3.rename(columns={\"start\": \"Start\", \"end\": \"End\", \"seqnames\": \"Chromosome\"}, inplace=True)\n",
    "\n",
    "dnaseq = pr.PyRanges(df3)\n",
    "print(dnaseq)"
   ]
  },
  {
   "cell_type": "code",
   "execution_count": 7,
   "id": "f361ee11",
   "metadata": {},
   "outputs": [
    {
     "data": {
      "text/plain": [
       "0.009847315768276773"
      ]
     },
     "execution_count": 7,
     "metadata": {},
     "output_type": "execute_result"
    }
   ],
   "source": [
    "dnaseq['18'].length/CHR18_SIZE"
   ]
  },
  {
   "cell_type": "code",
   "execution_count": null,
   "id": "500dac02",
   "metadata": {},
   "outputs": [],
   "source": []
  },
  {
   "cell_type": "code",
   "execution_count": 8,
   "id": "c3299f16",
   "metadata": {},
   "outputs": [
    {
     "name": "stdout",
     "output_type": "stream",
     "text": [
      "0.10461227103192904\n"
     ]
    }
   ],
   "source": [
    "dnaseq_intersection = merged_ranges.intersect(dnaseq)\n",
    "dnaseq_int_length = dnaseq_intersection.length\n",
    "\n",
    "dnaseq_length = dnaseq['18'].length\n",
    "percentage_overlap2 = dnaseq_int_length / dnaseq_length\n",
    "\n",
    "print(percentage_overlap2)"
   ]
  },
  {
   "cell_type": "code",
   "execution_count": 9,
   "id": "01827f8e",
   "metadata": {},
   "outputs": [
    {
     "data": {
      "text/html": [
       "<div>\n",
       "<style scoped>\n",
       "    .dataframe tbody tr th:only-of-type {\n",
       "        vertical-align: middle;\n",
       "    }\n",
       "\n",
       "    .dataframe tbody tr th {\n",
       "        vertical-align: top;\n",
       "    }\n",
       "\n",
       "    .dataframe thead th {\n",
       "        text-align: right;\n",
       "    }\n",
       "</style>\n",
       "<table border=\"1\" class=\"dataframe\">\n",
       "  <thead>\n",
       "    <tr style=\"text-align: right;\">\n",
       "      <th></th>\n",
       "      <th>Chromosome</th>\n",
       "      <th>Start</th>\n",
       "      <th>End</th>\n",
       "      <th>width</th>\n",
       "      <th>strand</th>\n",
       "      <th>study</th>\n",
       "    </tr>\n",
       "  </thead>\n",
       "  <tbody>\n",
       "    <tr>\n",
       "      <th>0</th>\n",
       "      <td>18</td>\n",
       "      <td>3000012</td>\n",
       "      <td>3000342</td>\n",
       "      <td>331</td>\n",
       "      <td>*</td>\n",
       "      <td>DNAseq</td>\n",
       "    </tr>\n",
       "    <tr>\n",
       "      <th>1</th>\n",
       "      <td>18</td>\n",
       "      <td>3004544</td>\n",
       "      <td>3004668</td>\n",
       "      <td>125</td>\n",
       "      <td>*</td>\n",
       "      <td>DNAseq</td>\n",
       "    </tr>\n",
       "    <tr>\n",
       "      <th>2</th>\n",
       "      <td>18</td>\n",
       "      <td>3005165</td>\n",
       "      <td>3005411</td>\n",
       "      <td>247</td>\n",
       "      <td>*</td>\n",
       "      <td>DNAseq</td>\n",
       "    </tr>\n",
       "    <tr>\n",
       "      <th>3</th>\n",
       "      <td>18</td>\n",
       "      <td>3005785</td>\n",
       "      <td>3006003</td>\n",
       "      <td>219</td>\n",
       "      <td>*</td>\n",
       "      <td>DNAseq</td>\n",
       "    </tr>\n",
       "    <tr>\n",
       "      <th>4</th>\n",
       "      <td>18</td>\n",
       "      <td>3039453</td>\n",
       "      <td>3039587</td>\n",
       "      <td>135</td>\n",
       "      <td>*</td>\n",
       "      <td>DNAseq</td>\n",
       "    </tr>\n",
       "    <tr>\n",
       "      <th>...</th>\n",
       "      <td>...</td>\n",
       "      <td>...</td>\n",
       "      <td>...</td>\n",
       "      <td>...</td>\n",
       "      <td>...</td>\n",
       "      <td>...</td>\n",
       "    </tr>\n",
       "    <tr>\n",
       "      <th>3227</th>\n",
       "      <td>18</td>\n",
       "      <td>90373394</td>\n",
       "      <td>90373558</td>\n",
       "      <td>165</td>\n",
       "      <td>*</td>\n",
       "      <td>DNAseq</td>\n",
       "    </tr>\n",
       "    <tr>\n",
       "      <th>3228</th>\n",
       "      <td>18</td>\n",
       "      <td>90412426</td>\n",
       "      <td>90412553</td>\n",
       "      <td>128</td>\n",
       "      <td>*</td>\n",
       "      <td>DNAseq</td>\n",
       "    </tr>\n",
       "    <tr>\n",
       "      <th>3229</th>\n",
       "      <td>18</td>\n",
       "      <td>90509826</td>\n",
       "      <td>90510787</td>\n",
       "      <td>962</td>\n",
       "      <td>*</td>\n",
       "      <td>DNAseq</td>\n",
       "    </tr>\n",
       "    <tr>\n",
       "      <th>3230</th>\n",
       "      <td>18</td>\n",
       "      <td>90579394</td>\n",
       "      <td>90580107</td>\n",
       "      <td>714</td>\n",
       "      <td>*</td>\n",
       "      <td>DNAseq</td>\n",
       "    </tr>\n",
       "    <tr>\n",
       "      <th>3231</th>\n",
       "      <td>18</td>\n",
       "      <td>90580911</td>\n",
       "      <td>90581167</td>\n",
       "      <td>257</td>\n",
       "      <td>*</td>\n",
       "      <td>DNAseq</td>\n",
       "    </tr>\n",
       "  </tbody>\n",
       "</table>\n",
       "<p>3232 rows × 6 columns</p>\n",
       "</div>"
      ],
      "text/plain": [
       "+--------------+-----------+-----------+-----------+--------------+------------+\n",
       "| Chromosome   | Start     | End       | width     | strand       | study      |\n",
       "| (category)   | (int64)   | (int64)   | (int32)   | (category)   | (object)   |\n",
       "|--------------+-----------+-----------+-----------+--------------+------------|\n",
       "| 18           | 3000012   | 3000342   | 331       | *            | DNAseq     |\n",
       "| 18           | 3004544   | 3004668   | 125       | *            | DNAseq     |\n",
       "| 18           | 3005165   | 3005411   | 247       | *            | DNAseq     |\n",
       "| 18           | 3005785   | 3006003   | 219       | *            | DNAseq     |\n",
       "| ...          | ...       | ...       | ...       | ...          | ...        |\n",
       "| 18           | 90412426  | 90412553  | 128       | *            | DNAseq     |\n",
       "| 18           | 90509826  | 90510787  | 962       | *            | DNAseq     |\n",
       "| 18           | 90579394  | 90580107  | 714       | *            | DNAseq     |\n",
       "| 18           | 90580911  | 90581167  | 257       | *            | DNAseq     |\n",
       "+--------------+-----------+-----------+-----------+--------------+------------+\n",
       "Unstranded PyRanges object has 3,232 rows and 6 columns from 1 chromosomes.\n",
       "For printing, the PyRanges was sorted on Chromosome."
      ]
     },
     "execution_count": 9,
     "metadata": {},
     "output_type": "execute_result"
    }
   ],
   "source": [
    "dnaseq['18']"
   ]
  },
  {
   "cell_type": "code",
   "execution_count": 10,
   "id": "aef1049d",
   "metadata": {},
   "outputs": [
    {
     "data": {
      "text/plain": [
       "0.006096267069535119"
      ]
     },
     "execution_count": 10,
     "metadata": {},
     "output_type": "execute_result"
    }
   ],
   "source": [
    "atac['18'].length/CHR18_SIZE"
   ]
  },
  {
   "cell_type": "code",
   "execution_count": 11,
   "id": "41e079e7",
   "metadata": {},
   "outputs": [
    {
     "name": "stdout",
     "output_type": "stream",
     "text": [
      "+--------------+-----------+-----------+-----------+\n",
      "| Chromosome   | Start     | End       | Length    |\n",
      "| (category)   | (int64)   | (int64)   | (int64)   |\n",
      "|--------------+-----------+-----------+-----------|\n",
      "| 18           | 10000317  | 10000417  | 100       |\n",
      "| 18           | 10000717  | 10000817  | 100       |\n",
      "| 18           | 10002117  | 10002317  | 200       |\n",
      "| 18           | 10002717  | 10002917  | 200       |\n",
      "| ...          | ...       | ...       | ...       |\n",
      "| 18           | 25555417  | 25555617  | 200       |\n",
      "| 18           | 25555917  | 25556117  | 200       |\n",
      "| 18           | 25556217  | 25556617  | 400       |\n",
      "| 18           | 25556717  | 25556817  | 100       |\n",
      "+--------------+-----------+-----------+-----------+\n",
      "Unstranded PyRanges object has 11,670 rows and 4 columns from 1 chromosomes.\n",
      "For printing, the PyRanges was sorted on Chromosome.\n"
     ]
    }
   ],
   "source": [
    "m_lengths = merged_ranges.lengths()\n",
    "merged_ranges = merged_ranges.assign('Length', lambda x : m_lengths)\n",
    "\n",
    "print(merged_ranges)"
   ]
  },
  {
   "cell_type": "code",
   "execution_count": 12,
   "id": "e7ffdcb3",
   "metadata": {},
   "outputs": [
    {
     "name": "stdout",
     "output_type": "stream",
     "text": [
      "count    11670.000000\n",
      "mean       146.195373\n",
      "std        109.606325\n",
      "min        100.000000\n",
      "25%        100.000000\n",
      "50%        100.000000\n",
      "75%        200.000000\n",
      "max       1600.000000\n",
      "Name: Length, dtype: float64\n"
     ]
    }
   ],
   "source": [
    "evaluation = merged_ranges.Length.describe()\n",
    "print(evaluation)"
   ]
  },
  {
   "cell_type": "code",
   "execution_count": 13,
   "id": "a7da3ced",
   "metadata": {},
   "outputs": [
    {
     "name": "stdout",
     "output_type": "stream",
     "text": [
      "0.5642541707556428\n"
     ]
    }
   ],
   "source": [
    "atac_intersection = atac.intersect(merged_ranges)\n",
    "atac_int_length = atac_intersection.length\n",
    "\n",
    "# Edited for subset\n",
    "atac_length = atac[(atac.Chromosome == '18') & (atac.Start < CHR18_SUBSET_SIZE)].length\n",
    "percentage_overlap = atac_int_length / atac_length\n",
    "\n",
    "print(percentage_overlap)\n",
    "\n",
    "evaluation['ATACseq_overlap'] = percentage_overlap"
   ]
  },
  {
   "cell_type": "code",
   "execution_count": 14,
   "id": "9464c878",
   "metadata": {},
   "outputs": [
    {
     "name": "stdout",
     "output_type": "stream",
     "text": [
      "0.4868869369510175\n"
     ]
    }
   ],
   "source": [
    "dnaseq_intersection = merged_ranges.intersect(dnaseq)\n",
    "dnaseq_int_length = dnaseq_intersection.length\n",
    "\n",
    "# Edited for subset\n",
    "dnaseq_length = dnaseq[(dnaseq.Chromosome == '18') & (dnaseq.Start < CHR18_SUBSET_SIZE)].length\n",
    "percentage_overlap2 = dnaseq_int_length / dnaseq_length\n",
    "\n",
    "print(percentage_overlap2)\n",
    "\n",
    "evaluation['DNAseq_overlap'] = percentage_overlap2"
   ]
  },
  {
   "cell_type": "code",
   "execution_count": 15,
   "id": "a4f52ca0",
   "metadata": {},
   "outputs": [
    {
     "data": {
      "text/plain": [
       "count              11670.000000\n",
       "mean                 146.195373\n",
       "std                  109.606325\n",
       "min                  100.000000\n",
       "25%                  100.000000\n",
       "50%                  100.000000\n",
       "75%                  200.000000\n",
       "max                 1600.000000\n",
       "ATACseq_overlap        0.564254\n",
       "DNAseq_overlap         0.486887\n",
       "Name: Length, dtype: float64"
      ]
     },
     "execution_count": 15,
     "metadata": {},
     "output_type": "execute_result"
    }
   ],
   "source": [
    "evaluation"
   ]
  },
  {
   "cell_type": "code",
   "execution_count": 16,
   "id": "493eaa34",
   "metadata": {},
   "outputs": [
    {
     "name": "stderr",
     "output_type": "stream",
     "text": [
      "/Library/Frameworks/Python.framework/Versions/3.11/lib/python3.11/site-packages/pyranges/methods/init.py:45: FutureWarning: The default of observed=False is deprecated and will be changed to True in a future version of pandas. Pass observed=False to retain current behavior or observed=True to adopt the future default and silence this warning.\n",
      "  return {k: v for k, v in df.groupby(grpby_key)}\n",
      "/Library/Frameworks/Python.framework/Versions/3.11/lib/python3.11/site-packages/pyranges/methods/init.py:160: FutureWarning: The default of observed=False is deprecated and will be changed to True in a future version of pandas. Pass observed=False to retain current behavior or observed=True to adopt the future default and silence this warning.\n",
      "  empty_removed = df.groupby([\"Chromosome\", \"Strand\"])\n",
      "/Library/Frameworks/Python.framework/Versions/3.11/lib/python3.11/site-packages/pyranges/methods/init.py:45: FutureWarning: The default of observed=False is deprecated and will be changed to True in a future version of pandas. Pass observed=False to retain current behavior or observed=True to adopt the future default and silence this warning.\n",
      "  return {k: v for k, v in df.groupby(grpby_key)}\n"
     ]
    },
    {
     "name": "stdout",
     "output_type": "stream",
     "text": [
      "+--------------+------------+--------------+-----------+-----------+------------+--------------+------------+----------------------+----------------------+--------------------+------------+-----------------+-------------------+-------------------+------------+---------------+------------+-------+\n",
      "| Chromosome   | Source     | Feature      | Start     | End       | Score      | Strand       | Frame      | gene_id              | gene_type            | gene_name          | level      | transcript_id   | transcript_type   | transcript_name   | tag        | exon_number   | exon_id    | +7    |\n",
      "| (category)   | (object)   | (category)   | (int64)   | (int64)   | (object)   | (category)   | (object)   | (object)             | (object)             | (object)           | (object)   | (object)        | (object)          | (object)          | (object)   | (object)      | (object)   | ...   |\n",
      "|--------------+------------+--------------+-----------+-----------+------------+--------------+------------+----------------------+----------------------+--------------------+------------+-----------------+-------------------+-------------------+------------+---------------+------------+-------|\n",
      "| 18           | HAVANA     | gene         | 3000072   | 3010774   | .          | +            | .          | ENSMUSG00000132533.1 | lncRNA               | ENSMUSG00000132533 | 2          | nan             | nan               | nan               | nan        | nan           | nan        | ...   |\n",
      "| 18           | HAVANA     | gene         | 3005664   | 3006104   | .          | +            | .          | ENSMUSG00000132569.1 | lncRNA               | ENSMUSG00000132569 | 2          | nan             | nan               | nan               | nan        | nan           | nan        | ...   |\n",
      "| 18           | HAVANA     | gene         | 3015907   | 3016159   | .          | +            | .          | ENSMUSG00000117547.2 | processed_pseudogene | Gm50072            | 2          | nan             | nan               | nan               | nan        | nan           | nan        | ...   |\n",
      "| 18           | HAVANA     | gene         | 3336679   | 3366863   | .          | +            | .          | ENSMUSG00000097746.3 | lncRNA               | Gm6225             | 2          | nan             | nan               | nan               | nan        | nan           | nan        | ...   |\n",
      "| ...          | ...        | ...          | ...       | ...       | ...        | ...          | ...        | ...                  | ...                  | ...                | ...        | ...             | ...               | ...               | ...        | ...           | ...        | ...   |\n",
      "| 18           | HAVANA     | gene         | 90035944  | 90037203  | .          | -            | .          | ENSMUSG00000118035.2 | processed_pseudogene | Gm6173             | 2          | nan             | nan               | nan               | nan        | nan           | nan        | ...   |\n",
      "| 18           | HAVANA     | gene         | 90328991  | 90330314  | .          | -            | .          | ENSMUSG00000091697.3 | processed_pseudogene | Eif3s6-ps2         | 2          | nan             | nan               | nan               | nan        | nan           | nan        | ...   |\n",
      "| 18           | HAVANA     | gene         | 90340014  | 90341004  | .          | -            | .          | ENSMUSG00000117726.2 | processed_pseudogene | Gm7674             | 2          | nan             | nan               | nan               | nan        | nan           | nan        | ...   |\n",
      "| 18           | HAVANA     | gene         | 90478117  | 90501584  | .          | -            | .          | ENSMUSG00000117805.2 | lncRNA               | Gm18280            | 2          | nan             | nan               | nan               | nan        | nan           | nan        | ...   |\n",
      "+--------------+------------+--------------+-----------+-----------+------------+--------------+------------+----------------------+----------------------+--------------------+------------+-----------------+-------------------+-------------------+------------+---------------+------------+-------+\n",
      "Unstranded PyRanges object has 2,109 rows and 25 columns from 1 chromosomes.\n",
      "For printing, the PyRanges was sorted on Chromosome.\n",
      "7 hidden columns: mgi_id, havana_gene, ont, havana_transcript, transcript_support_level, protein_id, ccdsid\n"
     ]
    }
   ],
   "source": [
    "gencode = pr.read_gtf(\"gencode_chr18.gtf\")\n",
    "\n",
    "# {gene,transcript,exon,CDS,UTR,start_codon,stop_codon,Selenocysteine}\n",
    "genes18 = gencode[gencode.Feature == 'gene']\n",
    "genes18.Chromosome = '18'\n",
    "\n",
    "print(genes18)"
   ]
  },
  {
   "cell_type": "code",
   "execution_count": 19,
   "id": "6c3cc7fd",
   "metadata": {},
   "outputs": [
    {
     "name": "stdout",
     "output_type": "stream",
     "text": [
      "62606852\n",
      "49600584\n",
      "0.5467390524482251\n"
     ]
    }
   ],
   "source": [
    "print(genes18.length)\n",
    "merged_genes18 = genes18.merge()\n",
    "print(merged_genes18.length)\n",
    "print(merged_genes18.length / CHR18_SIZE)"
   ]
  },
  {
   "cell_type": "code",
   "execution_count": 20,
   "id": "a3034bf8",
   "metadata": {},
   "outputs": [
    {
     "name": "stdout",
     "output_type": "stream",
     "text": [
      "1109839\n",
      "1706100\n",
      "0.650512279467792\n"
     ]
    }
   ],
   "source": [
    "genes_intersection = merged_ranges.intersect(merged_genes18)\n",
    "genes_int_length = genes_intersection.length\n",
    "\n",
    "output_length = merged_ranges.length\n",
    "percentage_genes = genes_int_length / output_length\n",
    "\n",
    "print(genes_int_length)\n",
    "print(output_length)\n",
    "print(percentage_genes)\n",
    "\n",
    "evaluation['genes_overlap'] = percentage_genes\n",
    "# Edited for subset\n",
    "evaluation['percentage_open'] = output_length / CHR18_SUBSET_SIZE\n",
    "evaluation['percentage_open_adj'] = output_length / CHR18_SUBSET_SIZE_ADJ"
   ]
  },
  {
   "cell_type": "code",
   "execution_count": 21,
   "id": "9332f1c6",
   "metadata": {},
   "outputs": [
    {
     "data": {
      "text/plain": [
       "count                  11670.000000\n",
       "mean                     146.195373\n",
       "std                      109.606325\n",
       "min                      100.000000\n",
       "25%                      100.000000\n",
       "50%                      100.000000\n",
       "75%                      200.000000\n",
       "max                     1600.000000\n",
       "ATACseq_overlap            0.564254\n",
       "DNAseq_overlap             0.486887\n",
       "genes_overlap              0.650512\n",
       "percentage_open            0.066757\n",
       "percentage_open_adj        0.109668\n",
       "Name: Length, dtype: float64"
      ]
     },
     "execution_count": 21,
     "metadata": {},
     "output_type": "execute_result"
    }
   ],
   "source": [
    "evaluation"
   ]
  },
  {
   "cell_type": "code",
   "execution_count": 22,
   "id": "752b2e35",
   "metadata": {},
   "outputs": [
    {
     "name": "stdout",
     "output_type": "stream",
     "text": [
      "378138\n",
      "553058\n",
      "0.6837221412582406\n"
     ]
    }
   ],
   "source": [
    "genes_intersection_a = atac['18'].intersect(merged_genes18)\n",
    "genes_int_length_a = genes_intersection_a.length\n",
    "\n",
    "percentage_genes_a = genes_int_length_a / atac['18'].length\n",
    "\n",
    "print(genes_int_length_a)\n",
    "print(atac['18'].length)\n",
    "print(percentage_genes_a)"
   ]
  },
  {
   "cell_type": "code",
   "execution_count": null,
   "id": "fca8816e",
   "metadata": {},
   "outputs": [],
   "source": []
  }
 ],
 "metadata": {
  "kernelspec": {
   "display_name": "Python 3",
   "language": "python",
   "name": "python3"
  },
  "language_info": {
   "codemirror_mode": {
    "name": "ipython",
    "version": 3
   },
   "file_extension": ".py",
   "mimetype": "text/x-python",
   "name": "python",
   "nbconvert_exporter": "python",
   "pygments_lexer": "ipython3",
   "version": "3.11.8"
  }
 },
 "nbformat": 4,
 "nbformat_minor": 5
}
