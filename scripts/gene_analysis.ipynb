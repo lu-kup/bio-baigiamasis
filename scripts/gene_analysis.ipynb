{
 "cells": [
  {
   "cell_type": "code",
   "execution_count": 2,
   "id": "d001e5b1",
   "metadata": {},
   "outputs": [],
   "source": [
    "import chromatin_algos\n",
    "import evaluator\n",
    "import pyranges as pr\n",
    "import pandas as pd\n",
    "import pyreadr"
   ]
  },
  {
   "cell_type": "code",
   "execution_count": 3,
   "id": "cf342d35",
   "metadata": {},
   "outputs": [],
   "source": [
    "df2 = pyreadr.read_r('../inputs/ATAC_dt.RDS')[None]\n",
    "df2.rename(columns={\"start\": \"Start\", \"end\": \"End\", \"seqnames\": \"Chromosome\"}, inplace=True)\n",
    "atac_ranges = pr.PyRanges(df2)\n",
    "atac_ranges18 = atac_ranges[atac_ranges.Chromosome == '18']"
   ]
  },
  {
   "cell_type": "code",
   "execution_count": 5,
   "id": "fa26a5a0",
   "metadata": {},
   "outputs": [],
   "source": [
    "atac_ranges.to_csv('../outputs/ATAC.tsv', sep=\"\\t\")"
   ]
  },
  {
   "cell_type": "code",
   "execution_count": 50,
   "id": "30bf16dc",
   "metadata": {},
   "outputs": [],
   "source": [
    "OUTPUT_RANGES_PATH = '../outputs/ATAC.tsv'\n",
    "GENE_DATA_PATH = '../inputs/gencode_chr18.gtf'\n",
    "TARGET_GENE_NAME = 'Tmx3'\n",
    "\n",
    "ranges = pd.read_csv(OUTPUT_RANGES_PATH, sep='\\t')\n",
    "genes = pr.read_gtf(GENE_DATA_PATH)\n",
    "genes = genes[genes.Feature == 'gene']"
   ]
  },
  {
   "cell_type": "code",
   "execution_count": 51,
   "id": "116f5662",
   "metadata": {},
   "outputs": [
    {
     "name": "stdout",
     "output_type": "stream",
     "text": [
      "+--------------+------------+--------------+-----------+-----------+------------+--------------+------------+-----------------------+----------------------+--------------------+------------+-----------------+-------------------+-------------------+------------+---------------+-------+\n",
      "| Chromosome   | Source     | Feature      | Start     | End       | Score      | Strand       | Frame      | gene_id               | gene_type            | gene_name          | level      | transcript_id   | transcript_type   | transcript_name   | tag        | exon_number   | +8    |\n",
      "| (category)   | (object)   | (category)   | (int64)   | (int64)   | (object)   | (category)   | (object)   | (object)              | (object)             | (object)           | (object)   | (object)        | (object)          | (object)          | (object)   | (object)      | ...   |\n",
      "|--------------+------------+--------------+-----------+-----------+------------+--------------+------------+-----------------------+----------------------+--------------------+------------+-----------------+-------------------+-------------------+------------+---------------+-------|\n",
      "| chr18        | HAVANA     | gene         | 74061556  | 74198430  | .          | -            | .          | ENSMUSG00000024558.13 | protein_coding       | Mapk4              | 2          | nan             | nan               | nan               | nan        | nan           | ...   |\n",
      "| chr18        | HAVANA     | gene         | 74214423  | 74217856  | .          | -            | .          | ENSMUSG00000131755.1  | lncRNA               | ENSMUSG00000131755 | 2          | nan             | nan               | nan               | nan        | nan           | ...   |\n",
      "| chr18        | HAVANA     | gene         | 74282443  | 74316231  | .          | -            | .          | ENSMUSG00000127168.1  | lncRNA               | ENSMUSG00000127168 | 2          | nan             | nan               | nan               | nan        | nan           | ...   |\n",
      "| chr18        | HAVANA     | gene         | 74328369  | 74340889  | .          | -            | .          | ENSMUSG00000036223.17 | protein_coding       | Ska1               | 2          | nan             | nan               | nan               | nan        | nan           | ...   |\n",
      "| ...          | ...        | ...          | ...       | ...       | ...        | ...          | ...        | ...                   | ...                  | ...                | ...        | ...             | ...               | ...               | ...        | ...           | ...   |\n",
      "| chr18        | HAVANA     | gene         | 90035944  | 90037203  | .          | -            | .          | ENSMUSG00000118035.2  | processed_pseudogene | Gm6173             | 2          | nan             | nan               | nan               | nan        | nan           | ...   |\n",
      "| chr18        | HAVANA     | gene         | 90328991  | 90330314  | .          | -            | .          | ENSMUSG00000091697.3  | processed_pseudogene | Eif3s6-ps2         | 2          | nan             | nan               | nan               | nan        | nan           | ...   |\n",
      "| chr18        | HAVANA     | gene         | 90340014  | 90341004  | .          | -            | .          | ENSMUSG00000117726.2  | processed_pseudogene | Gm7674             | 2          | nan             | nan               | nan               | nan        | nan           | ...   |\n",
      "| chr18        | HAVANA     | gene         | 90478117  | 90501584  | .          | -            | .          | ENSMUSG00000117805.2  | lncRNA               | Gm18280            | 2          | nan             | nan               | nan               | nan        | nan           | ...   |\n",
      "+--------------+------------+--------------+-----------+-----------+------------+--------------+------------+-----------------------+----------------------+--------------------+------------+-----------------+-------------------+-------------------+------------+---------------+-------+\n",
      "Stranded PyRanges object has 200 rows and 25 columns from 1 chromosomes.\n",
      "For printing, the PyRanges was sorted on Chromosome and Strand.\n",
      "8 hidden columns: exon_id, mgi_id, havana_gene, ont, havana_transcript, transcript_support_level, protein_id, ccdsid\n"
     ]
    },
    {
     "name": "stderr",
     "output_type": "stream",
     "text": [
      "/opt/anaconda3/lib/python3.12/site-packages/pyranges/tostring2.py:35: FutureWarning: The behavior of DataFrame concatenation with empty or all-NA entries is deprecated. In a future version, this will no longer exclude empty or all-NA columns when determining the result dtypes. To retain the old behavior, exclude the relevant entries before the concat operation.\n",
      "  df = pd.concat([plus, minus])\n",
      "/opt/anaconda3/lib/python3.12/site-packages/pyranges/tostring2.py:35: FutureWarning: The behavior of DataFrame concatenation with empty or all-NA entries is deprecated. In a future version, this will no longer exclude empty or all-NA columns when determining the result dtypes. To retain the old behavior, exclude the relevant entries before the concat operation.\n",
      "  df = pd.concat([plus, minus])\n",
      "/opt/anaconda3/lib/python3.12/site-packages/pyranges/tostring2.py:35: FutureWarning: The behavior of DataFrame concatenation with empty or all-NA entries is deprecated. In a future version, this will no longer exclude empty or all-NA columns when determining the result dtypes. To retain the old behavior, exclude the relevant entries before the concat operation.\n",
      "  df = pd.concat([plus, minus])\n",
      "/opt/anaconda3/lib/python3.12/site-packages/pyranges/tostring2.py:35: FutureWarning: The behavior of DataFrame concatenation with empty or all-NA entries is deprecated. In a future version, this will no longer exclude empty or all-NA columns when determining the result dtypes. To retain the old behavior, exclude the relevant entries before the concat operation.\n",
      "  df = pd.concat([plus, minus])\n",
      "/opt/anaconda3/lib/python3.12/site-packages/pyranges/tostring2.py:35: FutureWarning: The behavior of DataFrame concatenation with empty or all-NA entries is deprecated. In a future version, this will no longer exclude empty or all-NA columns when determining the result dtypes. To retain the old behavior, exclude the relevant entries before the concat operation.\n",
      "  df = pd.concat([plus, minus])\n",
      "/opt/anaconda3/lib/python3.12/site-packages/pyranges/tostring2.py:35: FutureWarning: The behavior of DataFrame concatenation with empty or all-NA entries is deprecated. In a future version, this will no longer exclude empty or all-NA columns when determining the result dtypes. To retain the old behavior, exclude the relevant entries before the concat operation.\n",
      "  df = pd.concat([plus, minus])\n"
     ]
    }
   ],
   "source": [
    "print(genes.tail(200))"
   ]
  },
  {
   "cell_type": "code",
   "execution_count": 59,
   "id": "88326c5d",
   "metadata": {},
   "outputs": [
    {
     "name": "stdout",
     "output_type": "stream",
     "text": [
      "+--------------+------------+--------------+-----------+-----------+------------+--------------+------------+----------------------+----------------------+--------------------+------------+-----------------+-------------------+-------------------+------------+---------------+------------+-------+\n",
      "| Chromosome   | Source     | Feature      | Start     | End       | Score      | Strand       | Frame      | gene_id              | gene_type            | gene_name          | level      | transcript_id   | transcript_type   | transcript_name   | tag        | exon_number   | exon_id    | +7    |\n",
      "| (category)   | (object)   | (category)   | (int64)   | (int64)   | (object)   | (category)   | (object)   | (object)             | (object)             | (object)           | (object)   | (object)        | (object)          | (object)          | (object)   | (object)      | (object)   | ...   |\n",
      "|--------------+------------+--------------+-----------+-----------+------------+--------------+------------+----------------------+----------------------+--------------------+------------+-----------------+-------------------+-------------------+------------+---------------+------------+-------|\n",
      "| 18           | HAVANA     | gene         | 3000072   | 3010774   | .          | +            | .          | ENSMUSG00000132533.1 | lncRNA               | ENSMUSG00000132533 | 2          | nan             | nan               | nan               | nan        | nan           | nan        | ...   |\n",
      "| 18           | HAVANA     | gene         | 3005664   | 3006104   | .          | +            | .          | ENSMUSG00000132569.1 | lncRNA               | ENSMUSG00000132569 | 2          | nan             | nan               | nan               | nan        | nan           | nan        | ...   |\n",
      "| 18           | HAVANA     | gene         | 3015907   | 3016159   | .          | +            | .          | ENSMUSG00000117547.2 | processed_pseudogene | Gm50072            | 2          | nan             | nan               | nan               | nan        | nan           | nan        | ...   |\n",
      "| 18           | HAVANA     | gene         | 3336679   | 3366863   | .          | +            | .          | ENSMUSG00000097746.3 | lncRNA               | Gm6225             | 2          | nan             | nan               | nan               | nan        | nan           | nan        | ...   |\n",
      "| ...          | ...        | ...          | ...       | ...       | ...        | ...          | ...        | ...                  | ...                  | ...                | ...        | ...             | ...               | ...               | ...        | ...           | ...        | ...   |\n",
      "| 18           | HAVANA     | gene         | 90035944  | 90037203  | .          | -            | .          | ENSMUSG00000118035.2 | processed_pseudogene | Gm6173             | 2          | nan             | nan               | nan               | nan        | nan           | nan        | ...   |\n",
      "| 18           | HAVANA     | gene         | 90328991  | 90330314  | .          | -            | .          | ENSMUSG00000091697.3 | processed_pseudogene | Eif3s6-ps2         | 2          | nan             | nan               | nan               | nan        | nan           | nan        | ...   |\n",
      "| 18           | HAVANA     | gene         | 90340014  | 90341004  | .          | -            | .          | ENSMUSG00000117726.2 | processed_pseudogene | Gm7674             | 2          | nan             | nan               | nan               | nan        | nan           | nan        | ...   |\n",
      "| 18           | HAVANA     | gene         | 90478117  | 90501584  | .          | -            | .          | ENSMUSG00000117805.2 | lncRNA               | Gm18280            | 2          | nan             | nan               | nan               | nan        | nan           | nan        | ...   |\n",
      "+--------------+------------+--------------+-----------+-----------+------------+--------------+------------+----------------------+----------------------+--------------------+------------+-----------------+-------------------+-------------------+------------+---------------+------------+-------+\n",
      "Unstranded PyRanges object has 2,109 rows and 25 columns from 1 chromosomes.\n",
      "For printing, the PyRanges was sorted on Chromosome.\n",
      "7 hidden columns: mgi_id, havana_gene, ont, havana_transcript, transcript_support_level, protein_id, ccdsid\n"
     ]
    }
   ],
   "source": [
    "genes_df = genes.df\n",
    "#genes_df = genes_df[genes_df[\"gene_name\"] == TARGET_GENE_NAME]\n",
    "gene_ranges = pr.PyRanges(genes_df)\n",
    "gene_ranges.Chromosome = '18'\n",
    "print(gene_ranges)"
   ]
  },
  {
   "cell_type": "code",
   "execution_count": 60,
   "id": "af0ca785",
   "metadata": {},
   "outputs": [
    {
     "name": "stderr",
     "output_type": "stream",
     "text": [
      "/opt/anaconda3/lib/python3.12/site-packages/pyranges/methods/intersection.py:95: FutureWarning: Setting an item of incompatible dtype is deprecated and will raise an error in a future version of pandas. Value '[1 2 1 ... 1 2 1]' has dtype incompatible with int32, please explicitly cast to a compatible dtype first.\n",
      "  sx.loc[vc.index, 0] = vc.values\n",
      "/opt/anaconda3/lib/python3.12/site-packages/pyranges/methods/intersection.py:95: FutureWarning: Setting an item of incompatible dtype is deprecated and will raise an error in a future version of pandas. Value '[1 1 1 ... 1 1 1]' has dtype incompatible with int32, please explicitly cast to a compatible dtype first.\n",
      "  sx.loc[vc.index, 0] = vc.values\n",
      "/opt/anaconda3/lib/python3.12/site-packages/pyranges/methods/intersection.py:95: FutureWarning: Setting an item of incompatible dtype is deprecated and will raise an error in a future version of pandas. Value '[1 1 1 ... 1 1 1]' has dtype incompatible with int32, please explicitly cast to a compatible dtype first.\n",
      "  sx.loc[vc.index, 0] = vc.values\n",
      "/opt/anaconda3/lib/python3.12/site-packages/pyranges/methods/intersection.py:95: FutureWarning: Setting an item of incompatible dtype is deprecated and will raise an error in a future version of pandas. Value '[1 1 1 ... 1 1 1]' has dtype incompatible with int32, please explicitly cast to a compatible dtype first.\n",
      "  sx.loc[vc.index, 0] = vc.values\n",
      "/opt/anaconda3/lib/python3.12/site-packages/pyranges/methods/intersection.py:95: FutureWarning: Setting an item of incompatible dtype is deprecated and will raise an error in a future version of pandas. Value '[1 1 1 ... 1 1 1]' has dtype incompatible with int32, please explicitly cast to a compatible dtype first.\n",
      "  sx.loc[vc.index, 0] = vc.values\n",
      "/opt/anaconda3/lib/python3.12/site-packages/pyranges/methods/intersection.py:95: FutureWarning: Setting an item of incompatible dtype is deprecated and will raise an error in a future version of pandas. Value '[1 1 1 ... 1 1 1]' has dtype incompatible with int32, please explicitly cast to a compatible dtype first.\n",
      "  sx.loc[vc.index, 0] = vc.values\n",
      "/opt/anaconda3/lib/python3.12/site-packages/pyranges/methods/intersection.py:95: FutureWarning: Setting an item of incompatible dtype is deprecated and will raise an error in a future version of pandas. Value '[1 1 1 ... 1 1 1]' has dtype incompatible with int32, please explicitly cast to a compatible dtype first.\n",
      "  sx.loc[vc.index, 0] = vc.values\n",
      "/opt/anaconda3/lib/python3.12/site-packages/pyranges/methods/intersection.py:95: FutureWarning: Setting an item of incompatible dtype is deprecated and will raise an error in a future version of pandas. Value '[1 1 1 ... 1 1 1]' has dtype incompatible with int32, please explicitly cast to a compatible dtype first.\n",
      "  sx.loc[vc.index, 0] = vc.values\n",
      "/opt/anaconda3/lib/python3.12/site-packages/pyranges/methods/intersection.py:95: FutureWarning: Setting an item of incompatible dtype is deprecated and will raise an error in a future version of pandas. Value '[1 1 1 ... 1 1 1]' has dtype incompatible with int32, please explicitly cast to a compatible dtype first.\n",
      "  sx.loc[vc.index, 0] = vc.values\n",
      "/opt/anaconda3/lib/python3.12/site-packages/pyranges/methods/intersection.py:95: FutureWarning: Setting an item of incompatible dtype is deprecated and will raise an error in a future version of pandas. Value '[1 1 1 ... 1 1 1]' has dtype incompatible with int32, please explicitly cast to a compatible dtype first.\n",
      "  sx.loc[vc.index, 0] = vc.values\n",
      "/opt/anaconda3/lib/python3.12/site-packages/pyranges/methods/intersection.py:95: FutureWarning: Setting an item of incompatible dtype is deprecated and will raise an error in a future version of pandas. Value '[1 1 1 ... 1 1 1]' has dtype incompatible with int32, please explicitly cast to a compatible dtype first.\n",
      "  sx.loc[vc.index, 0] = vc.values\n",
      "/opt/anaconda3/lib/python3.12/site-packages/pyranges/methods/intersection.py:95: FutureWarning: Setting an item of incompatible dtype is deprecated and will raise an error in a future version of pandas. Value '[1 1 1 ... 1 1 1]' has dtype incompatible with int32, please explicitly cast to a compatible dtype first.\n",
      "  sx.loc[vc.index, 0] = vc.values\n",
      "/opt/anaconda3/lib/python3.12/site-packages/pyranges/methods/intersection.py:95: FutureWarning: Setting an item of incompatible dtype is deprecated and will raise an error in a future version of pandas. Value '[1 1 1 ... 1 1 1]' has dtype incompatible with int32, please explicitly cast to a compatible dtype first.\n",
      "  sx.loc[vc.index, 0] = vc.values\n",
      "/opt/anaconda3/lib/python3.12/site-packages/pyranges/methods/intersection.py:95: FutureWarning: Setting an item of incompatible dtype is deprecated and will raise an error in a future version of pandas. Value '[1 1 1 ... 1 1 1]' has dtype incompatible with int32, please explicitly cast to a compatible dtype first.\n",
      "  sx.loc[vc.index, 0] = vc.values\n",
      "/opt/anaconda3/lib/python3.12/site-packages/pyranges/methods/intersection.py:95: FutureWarning: Setting an item of incompatible dtype is deprecated and will raise an error in a future version of pandas. Value '[1 1 1 ... 1 1 1]' has dtype incompatible with int32, please explicitly cast to a compatible dtype first.\n",
      "  sx.loc[vc.index, 0] = vc.values\n",
      "/opt/anaconda3/lib/python3.12/site-packages/pyranges/methods/intersection.py:95: FutureWarning: Setting an item of incompatible dtype is deprecated and will raise an error in a future version of pandas. Value '[1 1 1 ... 1 1 1]' has dtype incompatible with int32, please explicitly cast to a compatible dtype first.\n",
      "  sx.loc[vc.index, 0] = vc.values\n",
      "/opt/anaconda3/lib/python3.12/site-packages/pyranges/methods/intersection.py:95: FutureWarning: Setting an item of incompatible dtype is deprecated and will raise an error in a future version of pandas. Value '[1 1 1 ... 1 1 1]' has dtype incompatible with int32, please explicitly cast to a compatible dtype first.\n",
      "  sx.loc[vc.index, 0] = vc.values\n",
      "/opt/anaconda3/lib/python3.12/site-packages/pyranges/methods/intersection.py:95: FutureWarning: Setting an item of incompatible dtype is deprecated and will raise an error in a future version of pandas. Value '[1 1 1 ... 1 1 1]' has dtype incompatible with int32, please explicitly cast to a compatible dtype first.\n",
      "  sx.loc[vc.index, 0] = vc.values\n",
      "/opt/anaconda3/lib/python3.12/site-packages/pyranges/methods/intersection.py:95: FutureWarning: Setting an item of incompatible dtype is deprecated and will raise an error in a future version of pandas. Value '[1 1 1 ... 1 1 1]' has dtype incompatible with int32, please explicitly cast to a compatible dtype first.\n",
      "  sx.loc[vc.index, 0] = vc.values\n",
      "/opt/anaconda3/lib/python3.12/site-packages/pyranges/methods/intersection.py:95: FutureWarning: Setting an item of incompatible dtype is deprecated and will raise an error in a future version of pandas. Value '[1 1 1 ... 1 1 1]' has dtype incompatible with int32, please explicitly cast to a compatible dtype first.\n",
      "  sx.loc[vc.index, 0] = vc.values\n"
     ]
    },
    {
     "name": "stdout",
     "output_type": "stream",
     "text": [
      "TARGET_GENE_NAME: Tmx3\n",
      "OUTPUT_RANGES_PATH: ../outputs/ATAC.tsv\n",
      "+--------------+-----------+-----------+-----------+-----------+\n",
      "| Chromosome   | Start     | End       | gene      | ranges    |\n",
      "| (category)   | (int64)   | (int64)   | (int64)   | (int64)   |\n",
      "|--------------+-----------+-----------+-----------+-----------|\n",
      "| 18           | 3000072   | 3005664   | 1         | 0         |\n",
      "| 18           | 3005664   | 3006104   | 2         | 0         |\n",
      "| 18           | 3006104   | 3010774   | 1         | 0         |\n",
      "| 18           | 3015907   | 3016159   | 1         | 0         |\n",
      "| ...          | ...       | ...       | ...       | ...       |\n",
      "| 18           | 90559342  | 90561391  | 1         | 0         |\n",
      "| 18           | 90597900  | 90603595  | 1         | 0         |\n",
      "| 18           | 90603595  | 90603989  | 2         | 0         |\n",
      "| 18           | 90603989  | 90610652  | 1         | 0         |\n",
      "+--------------+-----------+-----------+-----------+-----------+\n",
      "Unstranded PyRanges object has 5,275 rows and 5 columns from 1 chromosomes.\n",
      "For printing, the PyRanges was sorted on Chromosome.\n"
     ]
    }
   ],
   "source": [
    "overlap_dict = {'gene':gene_ranges, 'ranges':atac_ranges}\n",
    "overlaps = pr.count_overlaps(overlap_dict)\n",
    "overlaps_df = overlaps.df\n",
    "overlapping_genes = pr.PyRanges(overlaps_df[(overlaps_df['gene'] != 0)])\n",
    "print(\"TARGET_GENE_NAME:\", TARGET_GENE_NAME)\n",
    "print(\"OUTPUT_RANGES_PATH:\", OUTPUT_RANGES_PATH)\n",
    "print(overlapping_genes)"
   ]
  },
  {
   "cell_type": "code",
   "execution_count": 61,
   "id": "2a3aeac0",
   "metadata": {},
   "outputs": [
    {
     "name": "stdout",
     "output_type": "stream",
     "text": [
      "TARGET_GENE_NAME: Tmx3\n",
      "OUTPUT_RANGES_PATH: ../outputs/ATAC.tsv\n",
      "+--------------+-----------+-----------+-----------+-----------+\n",
      "| Chromosome   | Start     | End       | gene      | ranges    |\n",
      "| (category)   | (int64)   | (int64)   | (int64)   | (int64)   |\n",
      "|--------------+-----------+-----------+-----------+-----------|\n",
      "| 18           | 3280837   | 3281100   | 1         | 1         |\n",
      "| 18           | 3336875   | 3337748   | 2         | 1         |\n",
      "| 18           | 3337748   | 3337865   | 1         | 1         |\n",
      "| 18           | 3382987   | 3383314   | 1         | 1         |\n",
      "| ...          | ...       | ...       | ...       | ...       |\n",
      "| 18           | 89830892  | 89831202  | 1         | 1         |\n",
      "| 18           | 89845553  | 89845706  | 1         | 1         |\n",
      "| 18           | 90545878  | 90546161  | 1         | 1         |\n",
      "| 18           | 90559238  | 90559342  | 1         | 1         |\n",
      "+--------------+-----------+-----------+-----------+-----------+\n",
      "Unstranded PyRanges object has 1,155 rows and 5 columns from 1 chromosomes.\n",
      "For printing, the PyRanges was sorted on Chromosome.\n"
     ]
    },
    {
     "name": "stderr",
     "output_type": "stream",
     "text": [
      "/opt/anaconda3/lib/python3.12/site-packages/pyranges/methods/intersection.py:95: FutureWarning: Setting an item of incompatible dtype is deprecated and will raise an error in a future version of pandas. Value '[1 2 1 ... 1 2 1]' has dtype incompatible with int32, please explicitly cast to a compatible dtype first.\n",
      "  sx.loc[vc.index, 0] = vc.values\n",
      "/opt/anaconda3/lib/python3.12/site-packages/pyranges/methods/intersection.py:95: FutureWarning: Setting an item of incompatible dtype is deprecated and will raise an error in a future version of pandas. Value '[1 1 1 ... 1 1 1]' has dtype incompatible with int32, please explicitly cast to a compatible dtype first.\n",
      "  sx.loc[vc.index, 0] = vc.values\n",
      "/opt/anaconda3/lib/python3.12/site-packages/pyranges/methods/intersection.py:95: FutureWarning: Setting an item of incompatible dtype is deprecated and will raise an error in a future version of pandas. Value '[1 1 1 ... 1 1 1]' has dtype incompatible with int32, please explicitly cast to a compatible dtype first.\n",
      "  sx.loc[vc.index, 0] = vc.values\n",
      "/opt/anaconda3/lib/python3.12/site-packages/pyranges/methods/intersection.py:95: FutureWarning: Setting an item of incompatible dtype is deprecated and will raise an error in a future version of pandas. Value '[1 1 1 ... 1 1 1]' has dtype incompatible with int32, please explicitly cast to a compatible dtype first.\n",
      "  sx.loc[vc.index, 0] = vc.values\n",
      "/opt/anaconda3/lib/python3.12/site-packages/pyranges/methods/intersection.py:95: FutureWarning: Setting an item of incompatible dtype is deprecated and will raise an error in a future version of pandas. Value '[1 1 1 ... 1 1 1]' has dtype incompatible with int32, please explicitly cast to a compatible dtype first.\n",
      "  sx.loc[vc.index, 0] = vc.values\n",
      "/opt/anaconda3/lib/python3.12/site-packages/pyranges/methods/intersection.py:95: FutureWarning: Setting an item of incompatible dtype is deprecated and will raise an error in a future version of pandas. Value '[1 1 1 ... 1 1 1]' has dtype incompatible with int32, please explicitly cast to a compatible dtype first.\n",
      "  sx.loc[vc.index, 0] = vc.values\n",
      "/opt/anaconda3/lib/python3.12/site-packages/pyranges/methods/intersection.py:95: FutureWarning: Setting an item of incompatible dtype is deprecated and will raise an error in a future version of pandas. Value '[1 1 1 ... 1 1 1]' has dtype incompatible with int32, please explicitly cast to a compatible dtype first.\n",
      "  sx.loc[vc.index, 0] = vc.values\n",
      "/opt/anaconda3/lib/python3.12/site-packages/pyranges/methods/intersection.py:95: FutureWarning: Setting an item of incompatible dtype is deprecated and will raise an error in a future version of pandas. Value '[1 1 1 ... 1 1 1]' has dtype incompatible with int32, please explicitly cast to a compatible dtype first.\n",
      "  sx.loc[vc.index, 0] = vc.values\n",
      "/opt/anaconda3/lib/python3.12/site-packages/pyranges/methods/intersection.py:95: FutureWarning: Setting an item of incompatible dtype is deprecated and will raise an error in a future version of pandas. Value '[1 1 1 ... 1 1 1]' has dtype incompatible with int32, please explicitly cast to a compatible dtype first.\n",
      "  sx.loc[vc.index, 0] = vc.values\n",
      "/opt/anaconda3/lib/python3.12/site-packages/pyranges/methods/intersection.py:95: FutureWarning: Setting an item of incompatible dtype is deprecated and will raise an error in a future version of pandas. Value '[1 1 1 ... 1 1 1]' has dtype incompatible with int32, please explicitly cast to a compatible dtype first.\n",
      "  sx.loc[vc.index, 0] = vc.values\n",
      "/opt/anaconda3/lib/python3.12/site-packages/pyranges/methods/intersection.py:95: FutureWarning: Setting an item of incompatible dtype is deprecated and will raise an error in a future version of pandas. Value '[1 1 1 ... 1 1 1]' has dtype incompatible with int32, please explicitly cast to a compatible dtype first.\n",
      "  sx.loc[vc.index, 0] = vc.values\n",
      "/opt/anaconda3/lib/python3.12/site-packages/pyranges/methods/intersection.py:95: FutureWarning: Setting an item of incompatible dtype is deprecated and will raise an error in a future version of pandas. Value '[1 1 1 ... 1 1 1]' has dtype incompatible with int32, please explicitly cast to a compatible dtype first.\n",
      "  sx.loc[vc.index, 0] = vc.values\n",
      "/opt/anaconda3/lib/python3.12/site-packages/pyranges/methods/intersection.py:95: FutureWarning: Setting an item of incompatible dtype is deprecated and will raise an error in a future version of pandas. Value '[1 1 1 ... 1 1 1]' has dtype incompatible with int32, please explicitly cast to a compatible dtype first.\n",
      "  sx.loc[vc.index, 0] = vc.values\n",
      "/opt/anaconda3/lib/python3.12/site-packages/pyranges/methods/intersection.py:95: FutureWarning: Setting an item of incompatible dtype is deprecated and will raise an error in a future version of pandas. Value '[1 1 1 ... 1 1 1]' has dtype incompatible with int32, please explicitly cast to a compatible dtype first.\n",
      "  sx.loc[vc.index, 0] = vc.values\n",
      "/opt/anaconda3/lib/python3.12/site-packages/pyranges/methods/intersection.py:95: FutureWarning: Setting an item of incompatible dtype is deprecated and will raise an error in a future version of pandas. Value '[1 1 1 ... 1 1 1]' has dtype incompatible with int32, please explicitly cast to a compatible dtype first.\n",
      "  sx.loc[vc.index, 0] = vc.values\n",
      "/opt/anaconda3/lib/python3.12/site-packages/pyranges/methods/intersection.py:95: FutureWarning: Setting an item of incompatible dtype is deprecated and will raise an error in a future version of pandas. Value '[1 1 1 ... 1 1 1]' has dtype incompatible with int32, please explicitly cast to a compatible dtype first.\n",
      "  sx.loc[vc.index, 0] = vc.values\n",
      "/opt/anaconda3/lib/python3.12/site-packages/pyranges/methods/intersection.py:95: FutureWarning: Setting an item of incompatible dtype is deprecated and will raise an error in a future version of pandas. Value '[1 1 1 ... 1 1 1]' has dtype incompatible with int32, please explicitly cast to a compatible dtype first.\n",
      "  sx.loc[vc.index, 0] = vc.values\n",
      "/opt/anaconda3/lib/python3.12/site-packages/pyranges/methods/intersection.py:95: FutureWarning: Setting an item of incompatible dtype is deprecated and will raise an error in a future version of pandas. Value '[1 1 1 ... 1 1 1]' has dtype incompatible with int32, please explicitly cast to a compatible dtype first.\n",
      "  sx.loc[vc.index, 0] = vc.values\n",
      "/opt/anaconda3/lib/python3.12/site-packages/pyranges/methods/intersection.py:95: FutureWarning: Setting an item of incompatible dtype is deprecated and will raise an error in a future version of pandas. Value '[1 1 1 ... 1 1 1]' has dtype incompatible with int32, please explicitly cast to a compatible dtype first.\n",
      "  sx.loc[vc.index, 0] = vc.values\n",
      "/opt/anaconda3/lib/python3.12/site-packages/pyranges/methods/intersection.py:95: FutureWarning: Setting an item of incompatible dtype is deprecated and will raise an error in a future version of pandas. Value '[1 1 1 ... 1 1 1]' has dtype incompatible with int32, please explicitly cast to a compatible dtype first.\n",
      "  sx.loc[vc.index, 0] = vc.values\n"
     ]
    }
   ],
   "source": [
    "overlap_dict = {'gene':gene_ranges, 'ranges':atac_ranges}\n",
    "overlaps = pr.count_overlaps(overlap_dict)\n",
    "overlaps_df = overlaps.df\n",
    "overlapping_genes = pr.PyRanges(overlaps_df[(overlaps_df['gene'] != 0) & (overlaps_df['ranges'] != 0)])\n",
    "print(\"TARGET_GENE_NAME:\", TARGET_GENE_NAME)\n",
    "print(\"OUTPUT_RANGES_PATH:\", OUTPUT_RANGES_PATH)\n",
    "print(overlapping_genes)"
   ]
  },
  {
   "cell_type": "code",
   "execution_count": 62,
   "id": "f7067f73",
   "metadata": {},
   "outputs": [
    {
     "name": "stdout",
     "output_type": "stream",
     "text": [
      "+--------------+------------+--------------+-----------+-----------+------------+--------------+------------+-----------------------+----------------+-------------+------------+-----------------+-------------------+-------------------+------------+---------------+------------+-------+\n",
      "|   Chromosome | Source     | Feature      |     Start |       End | Score      | Strand       | Frame      | gene_id               | gene_type      | gene_name   |      level |   transcript_id |   transcript_type |   transcript_name |        tag |   exon_number |    exon_id | +7    |\n",
      "|   (category) | (object)   | (category)   |   (int64) |   (int64) | (object)   | (category)   | (object)   | (object)              | (object)       | (object)    |   (object) |        (object) |          (object) |          (object) |   (object) |      (object) |   (object) | ...   |\n",
      "|--------------+------------+--------------+-----------+-----------+------------+--------------+------------+-----------------------+----------------+-------------+------------+-----------------+-------------------+-------------------+------------+---------------+------------+-------|\n",
      "|           18 | HAVANA     | gene         |   3382987 |   3436377 | .          | +            | .          | ENSMUSG00000024231.16 | protein_coding | Cul2        |          2 |             nan |               nan |               nan |        nan |           nan |        nan | ...   |\n",
      "+--------------+------------+--------------+-----------+-----------+------------+--------------+------------+-----------------------+----------------+-------------+------------+-----------------+-------------------+-------------------+------------+---------------+------------+-------+\n",
      "Stranded PyRanges object has 1 rows and 25 columns from 1 chromosomes.\n",
      "For printing, the PyRanges was sorted on Chromosome and Strand.\n",
      "7 hidden columns: mgi_id, havana_gene, ont, havana_transcript, transcript_support_level, protein_id, ccdsid\n"
     ]
    }
   ],
   "source": [
    "print(gene_ranges['18', 3382987:3383314])"
   ]
  }
 ],
 "metadata": {
  "kernelspec": {
   "display_name": "Python 3",
   "language": "python",
   "name": "python3"
  },
  "language_info": {
   "codemirror_mode": {
    "name": "ipython",
    "version": 3
   },
   "file_extension": ".py",
   "mimetype": "text/x-python",
   "name": "python",
   "nbconvert_exporter": "python",
   "pygments_lexer": "ipython3",
   "version": "3.12.7"
  }
 },
 "nbformat": 4,
 "nbformat_minor": 5
}
